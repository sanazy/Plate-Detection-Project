{
  "nbformat": 4,
  "nbformat_minor": 0,
  "metadata": {
    "colab": {
      "name": "05_traffic_freeze.ipynb",
      "provenance": [],
      "collapsed_sections": [],
      "authorship_tag": "ABX9TyP4Prp1P+Lme7d3m/wG6PgM",
      "include_colab_link": true
    },
    "kernelspec": {
      "name": "python3",
      "display_name": "Python 3"
    }
  },
  "cells": [
    {
      "cell_type": "markdown",
      "metadata": {
        "id": "view-in-github",
        "colab_type": "text"
      },
      "source": [
        "<a href=\"https://colab.research.google.com/github/sanazy/Plate-Detection-Project/blob/master/05_traffic_freeze.ipynb\" target=\"_parent\"><img src=\"https://colab.research.google.com/assets/colab-badge.svg\" alt=\"Open In Colab\"/></a>"
      ]
    },
    {
      "cell_type": "code",
      "metadata": {
        "id": "7-lBnexhBKBe",
        "colab_type": "code",
        "colab": {
          "base_uri": "https://localhost:8080/",
          "height": 54
        },
        "outputId": "b05286d6-2e60-42ca-b1b6-bea52b3f2b30"
      },
      "source": [
        "from google.colab import drive\n",
        "drive.mount('/content/drive')"
      ],
      "execution_count": null,
      "outputs": [
        {
          "output_type": "stream",
          "text": [
            "Drive already mounted at /content/drive; to attempt to forcibly remount, call drive.mount(\"/content/drive\", force_remount=True).\n"
          ],
          "name": "stdout"
        }
      ]
    },
    {
      "cell_type": "code",
      "metadata": {
        "id": "6zS4J9k2BdBd",
        "colab_type": "code",
        "colab": {
          "base_uri": "https://localhost:8080/",
          "height": 34
        },
        "outputId": "b18c4988-91ce-4dbc-b751-64823b037ff5"
      },
      "source": [
        "EFF_PATH = '/content/drive/My\\ Drive/Traffic/EfficientDet'\n",
        "%cd {EFF_PATH}"
      ],
      "execution_count": null,
      "outputs": [
        {
          "output_type": "stream",
          "text": [
            "/content/drive/My Drive/Traffic/EfficientDet\n"
          ],
          "name": "stdout"
        }
      ]
    },
    {
      "cell_type": "code",
      "metadata": {
        "id": "oUwzmPXpQaEb",
        "colab_type": "code",
        "colab": {
          "base_uri": "https://localhost:8080/",
          "height": 826
        },
        "outputId": "5e32af57-242f-4fd4-999c-92da2f8105aa"
      },
      "source": [
        "!pip install -r {EFF_PATH}/requirements.txt"
      ],
      "execution_count": null,
      "outputs": [
        {
          "output_type": "stream",
          "text": [
            "Collecting git+https://github.com/cocodataset/cocoapi.git#subdirectory=PythonAPI (from -r /content/drive/My Drive/Traffic/EfficientDet/requirements.txt (line 7))\n",
            "  Cloning https://github.com/cocodataset/cocoapi.git to /tmp/pip-req-build-6jeunuwf\n",
            "  Running command git clone -q https://github.com/cocodataset/cocoapi.git /tmp/pip-req-build-6jeunuwf\n",
            "Requirement already satisfied (use --upgrade to upgrade): pycocotools==2.0 from git+https://github.com/cocodataset/cocoapi.git#subdirectory=PythonAPI in /usr/local/lib/python3.6/dist-packages (from -r /content/drive/My Drive/Traffic/EfficientDet/requirements.txt (line 7))\n",
            "Requirement already satisfied: Keras==2.2.5 in /usr/local/lib/python3.6/dist-packages (from -r /content/drive/My Drive/Traffic/EfficientDet/requirements.txt (line 1)) (2.2.5)\n",
            "Requirement already satisfied: opencv-contrib-python==3.4.2.17 in /usr/local/lib/python3.6/dist-packages (from -r /content/drive/My Drive/Traffic/EfficientDet/requirements.txt (line 2)) (3.4.2.17)\n",
            "Requirement already satisfied: opencv-python==3.4.2.17 in /usr/local/lib/python3.6/dist-packages (from -r /content/drive/My Drive/Traffic/EfficientDet/requirements.txt (line 3)) (3.4.2.17)\n",
            "Requirement already satisfied: Pillow==6.2.0 in /usr/local/lib/python3.6/dist-packages (from -r /content/drive/My Drive/Traffic/EfficientDet/requirements.txt (line 4)) (6.2.0)\n",
            "Requirement already satisfied: tensorflow-gpu==1.15.0 in /usr/local/lib/python3.6/dist-packages (from -r /content/drive/My Drive/Traffic/EfficientDet/requirements.txt (line 5)) (1.15.0)\n",
            "Requirement already satisfied: progressbar2 in /usr/local/lib/python3.6/dist-packages (from -r /content/drive/My Drive/Traffic/EfficientDet/requirements.txt (line 6)) (3.38.0)\n",
            "Requirement already satisfied: tqdm==4.28.1 in /usr/local/lib/python3.6/dist-packages (from -r /content/drive/My Drive/Traffic/EfficientDet/requirements.txt (line 8)) (4.28.1)\n",
            "Requirement already satisfied: setuptools>=18.0 in /usr/local/lib/python3.6/dist-packages (from pycocotools==2.0->-r /content/drive/My Drive/Traffic/EfficientDet/requirements.txt (line 7)) (47.3.1)\n",
            "Requirement already satisfied: cython>=0.27.3 in /usr/local/lib/python3.6/dist-packages (from pycocotools==2.0->-r /content/drive/My Drive/Traffic/EfficientDet/requirements.txt (line 7)) (0.29.20)\n",
            "Requirement already satisfied: matplotlib>=2.1.0 in /usr/local/lib/python3.6/dist-packages (from pycocotools==2.0->-r /content/drive/My Drive/Traffic/EfficientDet/requirements.txt (line 7)) (3.2.2)\n",
            "Requirement already satisfied: keras-applications>=1.0.8 in /usr/local/lib/python3.6/dist-packages (from Keras==2.2.5->-r /content/drive/My Drive/Traffic/EfficientDet/requirements.txt (line 1)) (1.0.8)\n",
            "Requirement already satisfied: six>=1.9.0 in /usr/local/lib/python3.6/dist-packages (from Keras==2.2.5->-r /content/drive/My Drive/Traffic/EfficientDet/requirements.txt (line 1)) (1.12.0)\n",
            "Requirement already satisfied: numpy>=1.9.1 in /usr/local/lib/python3.6/dist-packages (from Keras==2.2.5->-r /content/drive/My Drive/Traffic/EfficientDet/requirements.txt (line 1)) (1.18.5)\n",
            "Requirement already satisfied: pyyaml in /usr/local/lib/python3.6/dist-packages (from Keras==2.2.5->-r /content/drive/My Drive/Traffic/EfficientDet/requirements.txt (line 1)) (3.13)\n",
            "Requirement already satisfied: keras-preprocessing>=1.1.0 in /usr/local/lib/python3.6/dist-packages (from Keras==2.2.5->-r /content/drive/My Drive/Traffic/EfficientDet/requirements.txt (line 1)) (1.1.2)\n",
            "Requirement already satisfied: scipy>=0.14 in /usr/local/lib/python3.6/dist-packages (from Keras==2.2.5->-r /content/drive/My Drive/Traffic/EfficientDet/requirements.txt (line 1)) (1.4.1)\n",
            "Requirement already satisfied: h5py in /usr/local/lib/python3.6/dist-packages (from Keras==2.2.5->-r /content/drive/My Drive/Traffic/EfficientDet/requirements.txt (line 1)) (2.10.0)\n",
            "Requirement already satisfied: wrapt>=1.11.1 in /usr/local/lib/python3.6/dist-packages (from tensorflow-gpu==1.15.0->-r /content/drive/My Drive/Traffic/EfficientDet/requirements.txt (line 5)) (1.12.1)\n",
            "Requirement already satisfied: google-pasta>=0.1.6 in /usr/local/lib/python3.6/dist-packages (from tensorflow-gpu==1.15.0->-r /content/drive/My Drive/Traffic/EfficientDet/requirements.txt (line 5)) (0.2.0)\n",
            "Requirement already satisfied: grpcio>=1.8.6 in /usr/local/lib/python3.6/dist-packages (from tensorflow-gpu==1.15.0->-r /content/drive/My Drive/Traffic/EfficientDet/requirements.txt (line 5)) (1.30.0)\n",
            "Requirement already satisfied: gast==0.2.2 in /usr/local/lib/python3.6/dist-packages (from tensorflow-gpu==1.15.0->-r /content/drive/My Drive/Traffic/EfficientDet/requirements.txt (line 5)) (0.2.2)\n",
            "Requirement already satisfied: tensorflow-estimator==1.15.1 in /usr/local/lib/python3.6/dist-packages (from tensorflow-gpu==1.15.0->-r /content/drive/My Drive/Traffic/EfficientDet/requirements.txt (line 5)) (1.15.1)\n",
            "Requirement already satisfied: absl-py>=0.7.0 in /usr/local/lib/python3.6/dist-packages (from tensorflow-gpu==1.15.0->-r /content/drive/My Drive/Traffic/EfficientDet/requirements.txt (line 5)) (0.9.0)\n",
            "Requirement already satisfied: tensorboard<1.16.0,>=1.15.0 in /usr/local/lib/python3.6/dist-packages (from tensorflow-gpu==1.15.0->-r /content/drive/My Drive/Traffic/EfficientDet/requirements.txt (line 5)) (1.15.0)\n",
            "Requirement already satisfied: termcolor>=1.1.0 in /usr/local/lib/python3.6/dist-packages (from tensorflow-gpu==1.15.0->-r /content/drive/My Drive/Traffic/EfficientDet/requirements.txt (line 5)) (1.1.0)\n",
            "Requirement already satisfied: opt-einsum>=2.3.2 in /usr/local/lib/python3.6/dist-packages (from tensorflow-gpu==1.15.0->-r /content/drive/My Drive/Traffic/EfficientDet/requirements.txt (line 5)) (3.2.1)\n",
            "Requirement already satisfied: protobuf>=3.6.1 in /usr/local/lib/python3.6/dist-packages (from tensorflow-gpu==1.15.0->-r /content/drive/My Drive/Traffic/EfficientDet/requirements.txt (line 5)) (3.10.0)\n",
            "Requirement already satisfied: wheel>=0.26 in /usr/local/lib/python3.6/dist-packages (from tensorflow-gpu==1.15.0->-r /content/drive/My Drive/Traffic/EfficientDet/requirements.txt (line 5)) (0.34.2)\n",
            "Requirement already satisfied: astor>=0.6.0 in /usr/local/lib/python3.6/dist-packages (from tensorflow-gpu==1.15.0->-r /content/drive/My Drive/Traffic/EfficientDet/requirements.txt (line 5)) (0.8.1)\n",
            "Requirement already satisfied: python-utils>=2.3.0 in /usr/local/lib/python3.6/dist-packages (from progressbar2->-r /content/drive/My Drive/Traffic/EfficientDet/requirements.txt (line 6)) (2.4.0)\n",
            "Requirement already satisfied: cycler>=0.10 in /usr/local/lib/python3.6/dist-packages (from matplotlib>=2.1.0->pycocotools==2.0->-r /content/drive/My Drive/Traffic/EfficientDet/requirements.txt (line 7)) (0.10.0)\n",
            "Requirement already satisfied: pyparsing!=2.0.4,!=2.1.2,!=2.1.6,>=2.0.1 in /usr/local/lib/python3.6/dist-packages (from matplotlib>=2.1.0->pycocotools==2.0->-r /content/drive/My Drive/Traffic/EfficientDet/requirements.txt (line 7)) (2.4.7)\n",
            "Requirement already satisfied: kiwisolver>=1.0.1 in /usr/local/lib/python3.6/dist-packages (from matplotlib>=2.1.0->pycocotools==2.0->-r /content/drive/My Drive/Traffic/EfficientDet/requirements.txt (line 7)) (1.2.0)\n",
            "Requirement already satisfied: python-dateutil>=2.1 in /usr/local/lib/python3.6/dist-packages (from matplotlib>=2.1.0->pycocotools==2.0->-r /content/drive/My Drive/Traffic/EfficientDet/requirements.txt (line 7)) (2.8.1)\n",
            "Requirement already satisfied: werkzeug>=0.11.15 in /usr/local/lib/python3.6/dist-packages (from tensorboard<1.16.0,>=1.15.0->tensorflow-gpu==1.15.0->-r /content/drive/My Drive/Traffic/EfficientDet/requirements.txt (line 5)) (1.0.1)\n",
            "Requirement already satisfied: markdown>=2.6.8 in /usr/local/lib/python3.6/dist-packages (from tensorboard<1.16.0,>=1.15.0->tensorflow-gpu==1.15.0->-r /content/drive/My Drive/Traffic/EfficientDet/requirements.txt (line 5)) (3.2.2)\n",
            "Requirement already satisfied: importlib-metadata; python_version < \"3.8\" in /usr/local/lib/python3.6/dist-packages (from markdown>=2.6.8->tensorboard<1.16.0,>=1.15.0->tensorflow-gpu==1.15.0->-r /content/drive/My Drive/Traffic/EfficientDet/requirements.txt (line 5)) (1.6.1)\n",
            "Requirement already satisfied: zipp>=0.5 in /usr/local/lib/python3.6/dist-packages (from importlib-metadata; python_version < \"3.8\"->markdown>=2.6.8->tensorboard<1.16.0,>=1.15.0->tensorflow-gpu==1.15.0->-r /content/drive/My Drive/Traffic/EfficientDet/requirements.txt (line 5)) (3.1.0)\n",
            "Building wheels for collected packages: pycocotools\n",
            "  Building wheel for pycocotools (setup.py) ... \u001b[?25l\u001b[?25hdone\n",
            "  Created wheel for pycocotools: filename=pycocotools-2.0-cp36-cp36m-linux_x86_64.whl size=266988 sha256=f4afb0b1ce0dca49790ada539b37f8ce9fc8f1a1f1dc560f0438cd6b8fb7884e\n",
            "  Stored in directory: /tmp/pip-ephem-wheel-cache-yhb1yza5/wheels/90/51/41/646daf401c3bc408ff10de34ec76587a9b3ebfac8d21ca5c3a\n",
            "Successfully built pycocotools\n"
          ],
          "name": "stdout"
        }
      ]
    },
    {
      "cell_type": "code",
      "metadata": {
        "id": "ZmLuMzLCBRpb",
        "colab_type": "code",
        "colab": {}
      },
      "source": [
        "from model import efficientdet\n",
        "import cv2\n",
        "import os\n",
        "import numpy as np\n",
        "import time\n",
        "from utils import preprocess_image\n",
        "import tensorflow as tf\n",
        "from tensorflow.keras import backend as K"
      ],
      "execution_count": null,
      "outputs": []
    },
    {
      "cell_type": "code",
      "metadata": {
        "id": "5CUQrsioBCVh",
        "colab_type": "code",
        "colab": {}
      },
      "source": [
        "def freeze_session(session, keep_var_names=None, output_names=None, clear_devices=True):\n",
        "  graph = session.graph\n",
        "  with graph.as_default():\n",
        "    freeze_var_names = list(set(v.op.name for v in tf.global_variables()).difference(keep_var_names or []))\n",
        "    output_names = output_names or []\n",
        "    output_names += [v.op.name for v in tf.global_variables()]\n",
        "    input_graph_def = graph.as_graph_def()\n",
        "    if clear_devices:\n",
        "      for node in input_graph_def.node:\n",
        "        node.device = \"\"\n",
        "    frozen_graph = tf.graph_util.convert_variables_to_constants(\n",
        "        session, input_graph_def, output_names, freeze_var_names)\n",
        "    return frozen_graph"
      ],
      "execution_count": null,
      "outputs": []
    },
    {
      "cell_type": "code",
      "metadata": {
        "id": "Wo7s93QLBxfn",
        "colab_type": "code",
        "colab": {}
      },
      "source": [
        "def freeze_model():\n",
        "  phi = 0\n",
        "  weighted_bifpn = False\n",
        "  model_path = 'checkpoints/2020-07-02-13:29:19-10-5-900/csv_10_0.1043_0.1445.h5'\n",
        "  #model_path = 'checkpoints/2020-06-21-07:14:54-10-5-900/csv_10_0.1047_0.1514.h5'\n",
        "  image_sizes = (256, 640, 768, 896, 1024, 1280, 1408)\n",
        "  image_size = image_sizes[phi]\n",
        "  classes = ['light', 'heavy', 'unknown']\n",
        "  num_classes = len(classes)\n",
        "  score_threshold = 0.5\n",
        "  model, prediction_model = efficientdet(phi=phi,\n",
        "                                          weighted_bifpn=weighted_bifpn,\n",
        "                                          num_classes=num_classes,\n",
        "                                          score_threshold=score_threshold)\n",
        "  prediction_model.load_weights(model_path, by_name=True)\n",
        "  \n",
        "  frozen_graph = freeze_session(K.get_session(),  output_names=[out.op.name for out in prediction_model.outputs])\n",
        "  tf.train.write_graph(frozen_graph, \"./checkpoints/\", \"2020-07-02.pb\", as_text=False)"
      ],
      "execution_count": null,
      "outputs": []
    },
    {
      "cell_type": "code",
      "metadata": {
        "id": "ZahvMpB6CFZj",
        "colab_type": "code",
        "colab": {
          "base_uri": "https://localhost:8080/",
          "height": 322
        },
        "outputId": "83a73a80-7f64-4caa-c906-8a44d54e8616"
      },
      "source": [
        "freeze_model()"
      ],
      "execution_count": null,
      "outputs": [
        {
          "output_type": "stream",
          "text": [
            "WARNING:tensorflow:From /usr/local/lib/python3.6/dist-packages/tensorflow_core/python/util/deprecation.py:507: calling VarianceScaling.__init__ (from tensorflow.python.ops.init_ops) with distribution=normal is deprecated and will be removed in a future version.\n",
            "Instructions for updating:\n",
            "`normal` is a deprecated alias for `truncated_normal`\n",
            "WARNING:tensorflow:From /usr/local/lib/python3.6/dist-packages/tensorflow_core/python/ops/resource_variable_ops.py:1630: calling BaseResourceVariable.__init__ (from tensorflow.python.ops.resource_variable_ops) with constraint is deprecated and will be removed in a future version.\n",
            "Instructions for updating:\n",
            "If using Keras pass *_constraint arguments to layers.\n",
            "WARNING:tensorflow:From /content/drive/My Drive/Traffic/EfficientDet/layers.py:153: where (from tensorflow.python.ops.array_ops) is deprecated and will be removed in a future version.\n",
            "Instructions for updating:\n",
            "Use tf.where in 2.0, which has the same broadcast rule as np.where\n",
            "WARNING:tensorflow:From <ipython-input-7-489e52cb26c1>:12: convert_variables_to_constants (from tensorflow.python.framework.graph_util_impl) is deprecated and will be removed in a future version.\n",
            "Instructions for updating:\n",
            "Use `tf.compat.v1.graph_util.convert_variables_to_constants`\n",
            "WARNING:tensorflow:From /usr/local/lib/python3.6/dist-packages/tensorflow_core/python/framework/graph_util_impl.py:277: extract_sub_graph (from tensorflow.python.framework.graph_util_impl) is deprecated and will be removed in a future version.\n",
            "Instructions for updating:\n",
            "Use `tf.compat.v1.graph_util.extract_sub_graph`\n",
            "INFO:tensorflow:Froze 652 variables.\n",
            "INFO:tensorflow:Converted 652 variables to const ops.\n"
          ],
          "name": "stdout"
        }
      ]
    }
  ]
}