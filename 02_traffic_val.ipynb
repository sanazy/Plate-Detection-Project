{
  "nbformat": 4,
  "nbformat_minor": 0,
  "metadata": {
    "colab": {
      "name": "02_traffic_val.ipynb",
      "provenance": [],
      "collapsed_sections": [],
      "mount_file_id": "19y8gn-2Trz1KJJikvD-RQDkqFQVPX4Ch",
      "authorship_tag": "ABX9TyPHmKM1oy6bFv1A4dCMHzi2",
      "include_colab_link": true
    },
    "kernelspec": {
      "name": "python3",
      "display_name": "Python 3"
    }
  },
  "cells": [
    {
      "cell_type": "markdown",
      "metadata": {
        "id": "view-in-github",
        "colab_type": "text"
      },
      "source": [
        "<a href=\"https://colab.research.google.com/github/sanazy/Plate-Detection-Project/blob/master/02_traffic_val.ipynb\" target=\"_parent\"><img src=\"https://colab.research.google.com/assets/colab-badge.svg\" alt=\"Open In Colab\"/></a>"
      ]
    },
    {
      "cell_type": "code",
      "metadata": {
        "id": "IXu_3b3Dfqn3",
        "colab_type": "code",
        "colab": {
          "base_uri": "https://localhost:8080/",
          "height": 34
        },
        "outputId": "b2687d4c-6b7f-41fc-9eae-cd04e4f52521"
      },
      "source": [
        "from google.colab import drive\n",
        "drive.mount('/content/drive')"
      ],
      "execution_count": null,
      "outputs": [
        {
          "output_type": "stream",
          "text": [
            "Mounted at /content/drive\n"
          ],
          "name": "stdout"
        }
      ]
    },
    {
      "cell_type": "code",
      "metadata": {
        "id": "6_Rgzascb1r1",
        "colab_type": "code",
        "colab": {
          "base_uri": "https://localhost:8080/",
          "height": 71
        },
        "outputId": "0421dcfd-cbf4-4a23-f4e0-fbf97893d414"
      },
      "source": [
        "# Define Resources\n",
        "import os\n",
        "import pandas as pd\n",
        "import numpy as np\n",
        "import seaborn as sns\n",
        "import matplotlib.pyplot as plt\n",
        "import plotly.graph_objects as go\n",
        "from plotly.subplots import make_subplots\n",
        "from sklearn.model_selection import StratifiedKFold\n",
        "\n",
        "%matplotlib inline"
      ],
      "execution_count": null,
      "outputs": [
        {
          "output_type": "stream",
          "text": [
            "/usr/local/lib/python3.6/dist-packages/statsmodels/tools/_testing.py:19: FutureWarning: pandas.util.testing is deprecated. Use the functions in the public API at pandas.testing instead.\n",
            "  import pandas.util.testing as tm\n"
          ],
          "name": "stderr"
        }
      ]
    },
    {
      "cell_type": "code",
      "metadata": {
        "id": "KAkiH9tWb55z",
        "colab_type": "code",
        "colab": {}
      },
      "source": [
        "# Define Paths\n",
        "root_path = \"/content/drive/My Drive/Traffic/\"\n",
        "train_path = os.path.join(root_path, \"train/\")\n",
        "csv_path = os.path.join(root_path, \"labels_formated.csv\")\n",
        "cm_path = os.path.join(root_path, \"class_mapping.csv\")"
      ],
      "execution_count": null,
      "outputs": []
    },
    {
      "cell_type": "markdown",
      "metadata": {
        "id": "xAjm3lKRWbN0",
        "colab_type": "text"
      },
      "source": [
        "***\n",
        "## Seperate validation set"
      ]
    },
    {
      "cell_type": "code",
      "metadata": {
        "id": "LKQ-8Gxbe7MY",
        "colab_type": "code",
        "colab": {
          "base_uri": "https://localhost:8080/",
          "height": 204
        },
        "outputId": "2d9772b2-6263-4e4e-c945-9e4a99146542"
      },
      "source": [
        "df = pd.read_csv(csv_path)\n",
        "# Subtitude fullname with full path \n",
        "df['filename'] = train_path + df['filename']\n",
        "df.head()"
      ],
      "execution_count": null,
      "outputs": [
        {
          "output_type": "execute_result",
          "data": {
            "text/html": [
              "<div>\n",
              "<style scoped>\n",
              "    .dataframe tbody tr th:only-of-type {\n",
              "        vertical-align: middle;\n",
              "    }\n",
              "\n",
              "    .dataframe tbody tr th {\n",
              "        vertical-align: top;\n",
              "    }\n",
              "\n",
              "    .dataframe thead th {\n",
              "        text-align: right;\n",
              "    }\n",
              "</style>\n",
              "<table border=\"1\" class=\"dataframe\">\n",
              "  <thead>\n",
              "    <tr style=\"text-align: right;\">\n",
              "      <th></th>\n",
              "      <th>filename</th>\n",
              "      <th>width</th>\n",
              "      <th>height</th>\n",
              "      <th>class</th>\n",
              "      <th>xmin</th>\n",
              "      <th>ymin</th>\n",
              "      <th>xmax</th>\n",
              "      <th>ymax</th>\n",
              "      <th>bbox</th>\n",
              "      <th>daytime</th>\n",
              "      <th>class-daytime</th>\n",
              "    </tr>\n",
              "  </thead>\n",
              "  <tbody>\n",
              "    <tr>\n",
              "      <th>0</th>\n",
              "      <td>/content/drive/My Drive/Traffic/train/2020-03-...</td>\n",
              "      <td>360</td>\n",
              "      <td>225</td>\n",
              "      <td>light</td>\n",
              "      <td>224</td>\n",
              "      <td>70</td>\n",
              "      <td>292</td>\n",
              "      <td>111</td>\n",
              "      <td>[224, 70, 292, 111]</td>\n",
              "      <td>night</td>\n",
              "      <td>light-night</td>\n",
              "    </tr>\n",
              "    <tr>\n",
              "      <th>1</th>\n",
              "      <td>/content/drive/My Drive/Traffic/train/2020-03-...</td>\n",
              "      <td>360</td>\n",
              "      <td>225</td>\n",
              "      <td>light</td>\n",
              "      <td>274</td>\n",
              "      <td>45</td>\n",
              "      <td>340</td>\n",
              "      <td>131</td>\n",
              "      <td>[274, 45, 340, 131]</td>\n",
              "      <td>unknown</td>\n",
              "      <td>light-unknown</td>\n",
              "    </tr>\n",
              "    <tr>\n",
              "      <th>2</th>\n",
              "      <td>/content/drive/My Drive/Traffic/train/2020-03-...</td>\n",
              "      <td>360</td>\n",
              "      <td>225</td>\n",
              "      <td>heavy</td>\n",
              "      <td>233</td>\n",
              "      <td>67</td>\n",
              "      <td>314</td>\n",
              "      <td>105</td>\n",
              "      <td>[233, 67, 314, 105]</td>\n",
              "      <td>unknown</td>\n",
              "      <td>heavy-unknown</td>\n",
              "    </tr>\n",
              "    <tr>\n",
              "      <th>3</th>\n",
              "      <td>/content/drive/My Drive/Traffic/train/2020-03-...</td>\n",
              "      <td>360</td>\n",
              "      <td>225</td>\n",
              "      <td>light</td>\n",
              "      <td>197</td>\n",
              "      <td>43</td>\n",
              "      <td>253</td>\n",
              "      <td>77</td>\n",
              "      <td>[197, 43, 253, 77]</td>\n",
              "      <td>night</td>\n",
              "      <td>light-night</td>\n",
              "    </tr>\n",
              "    <tr>\n",
              "      <th>4</th>\n",
              "      <td>/content/drive/My Drive/Traffic/train/2020-03-...</td>\n",
              "      <td>360</td>\n",
              "      <td>225</td>\n",
              "      <td>light</td>\n",
              "      <td>253</td>\n",
              "      <td>98</td>\n",
              "      <td>326</td>\n",
              "      <td>137</td>\n",
              "      <td>[253, 98, 326, 137]</td>\n",
              "      <td>night</td>\n",
              "      <td>light-night</td>\n",
              "    </tr>\n",
              "  </tbody>\n",
              "</table>\n",
              "</div>"
            ],
            "text/plain": [
              "                                            filename  ...  class-daytime\n",
              "0  /content/drive/My Drive/Traffic/train/2020-03-...  ...    light-night\n",
              "1  /content/drive/My Drive/Traffic/train/2020-03-...  ...  light-unknown\n",
              "2  /content/drive/My Drive/Traffic/train/2020-03-...  ...  heavy-unknown\n",
              "3  /content/drive/My Drive/Traffic/train/2020-03-...  ...    light-night\n",
              "4  /content/drive/My Drive/Traffic/train/2020-03-...  ...    light-night\n",
              "\n",
              "[5 rows x 11 columns]"
            ]
          },
          "metadata": {
            "tags": []
          },
          "execution_count": 4
        }
      ]
    },
    {
      "cell_type": "code",
      "metadata": {
        "id": "WerG3j76X8c8",
        "colab_type": "code",
        "colab": {
          "base_uri": "https://localhost:8080/",
          "height": 85
        },
        "outputId": "95819be6-fd18-4f54-b6ac-a9ab07449c8c"
      },
      "source": [
        "y = df['class-daytime']\n",
        "X = df[['filename', 'xmin', 'ymin', 'xmax', 'ymax']]\n",
        "\n",
        "# Use Stratified kfold\n",
        "skf = StratifiedKFold(n_splits=4, shuffle=True, random_state=1)\n",
        "\n",
        "for train_index, test_index in skf.split(X, y):\n",
        "  print(\"TRAIN:\", train_index, \"TEST:\", test_index)\n",
        "  X_train, X_val = X.loc[train_index], X.loc[test_index]\n",
        "  y_train, y_val = y.loc[train_index], y.loc[test_index]"
      ],
      "execution_count": null,
      "outputs": [
        {
          "output_type": "stream",
          "text": [
            "TRAIN: [   0    1    2 ... 6360 6362 6364] TEST: [   5    7    8 ... 6353 6361 6363]\n",
            "TRAIN: [   0    1    3 ... 6362 6363 6364] TEST: [   2    4    6 ... 6357 6358 6359]\n",
            "TRAIN: [   0    1    2 ... 6361 6363 6364] TEST: [  10   11   16 ... 6351 6356 6362]\n",
            "TRAIN: [   2    4    5 ... 6361 6362 6363] TEST: [   0    1    3 ... 6355 6360 6364]\n"
          ],
          "name": "stdout"
        }
      ]
    },
    {
      "cell_type": "markdown",
      "metadata": {
        "id": "9BpRADnDhbSS",
        "colab_type": "text"
      },
      "source": [
        "***\n",
        "## Create CSVs for model"
      ]
    },
    {
      "cell_type": "markdown",
      "metadata": {
        "id": "G2ElfnilkAA9",
        "colab_type": "text"
      },
      "source": [
        "#### Create class mapping csv"
      ]
    },
    {
      "cell_type": "code",
      "metadata": {
        "id": "LL2M6uo8wfYD",
        "colab_type": "code",
        "colab": {}
      },
      "source": [
        "names = ['light', 'heavy', 'unknown']\n",
        "scores = [0, 1, 2]\n",
        "np.savetxt(cm_path, [p for p in zip(names, scores)], delimiter=',', fmt='%s')"
      ],
      "execution_count": null,
      "outputs": []
    },
    {
      "cell_type": "markdown",
      "metadata": {
        "id": "uxpB-CAkkC1Q",
        "colab_type": "text"
      },
      "source": [
        "#### Create train csv"
      ]
    },
    {
      "cell_type": "code",
      "metadata": {
        "id": "QZKw1Z26iOoT",
        "colab_type": "code",
        "colab": {
          "base_uri": "https://localhost:8080/",
          "height": 272
        },
        "outputId": "152f91ab-561d-4032-cd6d-b49c00436845"
      },
      "source": [
        "# Concatenate X and y\n",
        "df_train = pd.concat([X_train, pd.DataFrame(y_train)], axis=1, sort=False) \n",
        "# Seperate class-daytime column into 2 columns\n",
        "df_train['class'], df_train['daytime'] = df_train['class-daytime'].str.split('-', 1).str\n",
        "# Eliminate junk columns\n",
        "df_train.drop(columns={'class-daytime', 'daytime'}, inplace=True)\n",
        "df_train.head()"
      ],
      "execution_count": null,
      "outputs": [
        {
          "output_type": "stream",
          "text": [
            "/usr/local/lib/python3.6/dist-packages/ipykernel_launcher.py:4: FutureWarning:\n",
            "\n",
            "Columnar iteration over characters will be deprecated in future releases.\n",
            "\n"
          ],
          "name": "stderr"
        },
        {
          "output_type": "execute_result",
          "data": {
            "text/html": [
              "<div>\n",
              "<style scoped>\n",
              "    .dataframe tbody tr th:only-of-type {\n",
              "        vertical-align: middle;\n",
              "    }\n",
              "\n",
              "    .dataframe tbody tr th {\n",
              "        vertical-align: top;\n",
              "    }\n",
              "\n",
              "    .dataframe thead th {\n",
              "        text-align: right;\n",
              "    }\n",
              "</style>\n",
              "<table border=\"1\" class=\"dataframe\">\n",
              "  <thead>\n",
              "    <tr style=\"text-align: right;\">\n",
              "      <th></th>\n",
              "      <th>filename</th>\n",
              "      <th>xmin</th>\n",
              "      <th>ymin</th>\n",
              "      <th>xmax</th>\n",
              "      <th>ymax</th>\n",
              "      <th>class</th>\n",
              "    </tr>\n",
              "  </thead>\n",
              "  <tbody>\n",
              "    <tr>\n",
              "      <th>2</th>\n",
              "      <td>/content/drive/My Drive/Traffic/train/2020-03-...</td>\n",
              "      <td>233</td>\n",
              "      <td>67</td>\n",
              "      <td>314</td>\n",
              "      <td>105</td>\n",
              "      <td>heavy</td>\n",
              "    </tr>\n",
              "    <tr>\n",
              "      <th>4</th>\n",
              "      <td>/content/drive/My Drive/Traffic/train/2020-03-...</td>\n",
              "      <td>253</td>\n",
              "      <td>98</td>\n",
              "      <td>326</td>\n",
              "      <td>137</td>\n",
              "      <td>light</td>\n",
              "    </tr>\n",
              "    <tr>\n",
              "      <th>5</th>\n",
              "      <td>/content/drive/My Drive/Traffic/train/2020-03-...</td>\n",
              "      <td>215</td>\n",
              "      <td>48</td>\n",
              "      <td>278</td>\n",
              "      <td>89</td>\n",
              "      <td>light</td>\n",
              "    </tr>\n",
              "    <tr>\n",
              "      <th>6</th>\n",
              "      <td>/content/drive/My Drive/Traffic/train/2020-03-...</td>\n",
              "      <td>196</td>\n",
              "      <td>98</td>\n",
              "      <td>269</td>\n",
              "      <td>138</td>\n",
              "      <td>light</td>\n",
              "    </tr>\n",
              "    <tr>\n",
              "      <th>7</th>\n",
              "      <td>/content/drive/My Drive/Traffic/train/2020-03-...</td>\n",
              "      <td>237</td>\n",
              "      <td>101</td>\n",
              "      <td>312</td>\n",
              "      <td>147</td>\n",
              "      <td>light</td>\n",
              "    </tr>\n",
              "  </tbody>\n",
              "</table>\n",
              "</div>"
            ],
            "text/plain": [
              "                                            filename  xmin  ...  ymax  class\n",
              "2  /content/drive/My Drive/Traffic/train/2020-03-...   233  ...   105  heavy\n",
              "4  /content/drive/My Drive/Traffic/train/2020-03-...   253  ...   137  light\n",
              "5  /content/drive/My Drive/Traffic/train/2020-03-...   215  ...    89  light\n",
              "6  /content/drive/My Drive/Traffic/train/2020-03-...   196  ...   138  light\n",
              "7  /content/drive/My Drive/Traffic/train/2020-03-...   237  ...   147  light\n",
              "\n",
              "[5 rows x 6 columns]"
            ]
          },
          "metadata": {
            "tags": []
          },
          "execution_count": 7
        }
      ]
    },
    {
      "cell_type": "code",
      "metadata": {
        "id": "xEIMlVK4voBx",
        "colab_type": "code",
        "colab": {}
      },
      "source": [
        "# Save it to csv\n",
        "file_path = root_path + 'train.csv'\n",
        "df_train.to_csv(file_path, index=False, header=False)"
      ],
      "execution_count": null,
      "outputs": []
    },
    {
      "cell_type": "markdown",
      "metadata": {
        "id": "f-K57b7woRyQ",
        "colab_type": "text"
      },
      "source": [
        "#### Create validation csv"
      ]
    },
    {
      "cell_type": "code",
      "metadata": {
        "id": "-ujLKCf6vKJG",
        "colab_type": "code",
        "colab": {
          "base_uri": "https://localhost:8080/",
          "height": 272
        },
        "outputId": "0caedcf7-f2bf-488a-fde1-9c7b91113e13"
      },
      "source": [
        "# Concatenate X and y\n",
        "df_val = pd.concat([X_val, pd.DataFrame(y_val)], axis=1, sort=False) \n",
        "# Seperate class-daytime column into 2 columns\n",
        "df_val['class'], df_val['daytime'] = df_val['class-daytime'].str.split('-', 1).str\n",
        "# Eliminate junk columns\n",
        "df_val.drop(columns={'class-daytime', 'daytime'}, inplace=True)\n",
        "df_val.head()"
      ],
      "execution_count": null,
      "outputs": [
        {
          "output_type": "stream",
          "text": [
            "/usr/local/lib/python3.6/dist-packages/ipykernel_launcher.py:4: FutureWarning:\n",
            "\n",
            "Columnar iteration over characters will be deprecated in future releases.\n",
            "\n"
          ],
          "name": "stderr"
        },
        {
          "output_type": "execute_result",
          "data": {
            "text/html": [
              "<div>\n",
              "<style scoped>\n",
              "    .dataframe tbody tr th:only-of-type {\n",
              "        vertical-align: middle;\n",
              "    }\n",
              "\n",
              "    .dataframe tbody tr th {\n",
              "        vertical-align: top;\n",
              "    }\n",
              "\n",
              "    .dataframe thead th {\n",
              "        text-align: right;\n",
              "    }\n",
              "</style>\n",
              "<table border=\"1\" class=\"dataframe\">\n",
              "  <thead>\n",
              "    <tr style=\"text-align: right;\">\n",
              "      <th></th>\n",
              "      <th>filename</th>\n",
              "      <th>xmin</th>\n",
              "      <th>ymin</th>\n",
              "      <th>xmax</th>\n",
              "      <th>ymax</th>\n",
              "      <th>class</th>\n",
              "    </tr>\n",
              "  </thead>\n",
              "  <tbody>\n",
              "    <tr>\n",
              "      <th>0</th>\n",
              "      <td>/content/drive/My Drive/Traffic/train/2020-03-...</td>\n",
              "      <td>224</td>\n",
              "      <td>70</td>\n",
              "      <td>292</td>\n",
              "      <td>111</td>\n",
              "      <td>light</td>\n",
              "    </tr>\n",
              "    <tr>\n",
              "      <th>1</th>\n",
              "      <td>/content/drive/My Drive/Traffic/train/2020-03-...</td>\n",
              "      <td>274</td>\n",
              "      <td>45</td>\n",
              "      <td>340</td>\n",
              "      <td>131</td>\n",
              "      <td>light</td>\n",
              "    </tr>\n",
              "    <tr>\n",
              "      <th>3</th>\n",
              "      <td>/content/drive/My Drive/Traffic/train/2020-03-...</td>\n",
              "      <td>197</td>\n",
              "      <td>43</td>\n",
              "      <td>253</td>\n",
              "      <td>77</td>\n",
              "      <td>light</td>\n",
              "    </tr>\n",
              "    <tr>\n",
              "      <th>21</th>\n",
              "      <td>/content/drive/My Drive/Traffic/train/2020-03-...</td>\n",
              "      <td>248</td>\n",
              "      <td>82</td>\n",
              "      <td>314</td>\n",
              "      <td>123</td>\n",
              "      <td>light</td>\n",
              "    </tr>\n",
              "    <tr>\n",
              "      <th>23</th>\n",
              "      <td>/content/drive/My Drive/Traffic/train/2020-03-...</td>\n",
              "      <td>246</td>\n",
              "      <td>84</td>\n",
              "      <td>307</td>\n",
              "      <td>119</td>\n",
              "      <td>light</td>\n",
              "    </tr>\n",
              "  </tbody>\n",
              "</table>\n",
              "</div>"
            ],
            "text/plain": [
              "                                             filename  xmin  ...  ymax  class\n",
              "0   /content/drive/My Drive/Traffic/train/2020-03-...   224  ...   111  light\n",
              "1   /content/drive/My Drive/Traffic/train/2020-03-...   274  ...   131  light\n",
              "3   /content/drive/My Drive/Traffic/train/2020-03-...   197  ...    77  light\n",
              "21  /content/drive/My Drive/Traffic/train/2020-03-...   248  ...   123  light\n",
              "23  /content/drive/My Drive/Traffic/train/2020-03-...   246  ...   119  light\n",
              "\n",
              "[5 rows x 6 columns]"
            ]
          },
          "metadata": {
            "tags": []
          },
          "execution_count": 9
        }
      ]
    },
    {
      "cell_type": "code",
      "metadata": {
        "id": "3tfCDD0ZvaAb",
        "colab_type": "code",
        "colab": {}
      },
      "source": [
        "# Save it to csv\n",
        "file_path = root_path + 'val.csv'\n",
        "df_val.to_csv(file_path, index=False, header=False)"
      ],
      "execution_count": null,
      "outputs": []
    },
    {
      "cell_type": "markdown",
      "metadata": {
        "id": "2N_U4cxfcG-P",
        "colab_type": "text"
      },
      "source": [
        "***\n",
        "## Visualization"
      ]
    },
    {
      "cell_type": "code",
      "metadata": {
        "id": "hhxnDjVUcJzE",
        "colab_type": "code",
        "colab": {
          "base_uri": "https://localhost:8080/",
          "height": 34
        },
        "outputId": "c2d4ba1c-ec34-40f1-885b-b55bda49f474"
      },
      "source": [
        "df_train.shape"
      ],
      "execution_count": null,
      "outputs": [
        {
          "output_type": "execute_result",
          "data": {
            "text/plain": [
              "(4774, 6)"
            ]
          },
          "metadata": {
            "tags": []
          },
          "execution_count": 11
        }
      ]
    },
    {
      "cell_type": "code",
      "metadata": {
        "id": "5V_mtHFNcjfq",
        "colab_type": "code",
        "colab": {
          "base_uri": "https://localhost:8080/",
          "height": 311
        },
        "outputId": "a4bde294-6d24-4c3e-e701-3d088aa7206f"
      },
      "source": [
        "df_train['class'].value_counts().plot(kind='bar', rot=45)"
      ],
      "execution_count": null,
      "outputs": [
        {
          "output_type": "execute_result",
          "data": {
            "text/plain": [
              "<matplotlib.axes._subplots.AxesSubplot at 0x7f9288b52048>"
            ]
          },
          "metadata": {
            "tags": []
          },
          "execution_count": 12
        },
        {
          "output_type": "display_data",
          "data": {
            "image/png": "[encoded data removed]",
            "text/plain": [
              "<Figure size 432x288 with 1 Axes>"
            ]
          },
          "metadata": {
            "tags": [],
            "needs_background": "light"
          }
        }
      ]
    },
    {
      "cell_type": "code",
      "metadata": {
        "id": "DxSUCt2BcMZO",
        "colab_type": "code",
        "colab": {
          "base_uri": "https://localhost:8080/",
          "height": 34
        },
        "outputId": "03bae792-75c2-4fdf-b57d-e920556ea79a"
      },
      "source": [
        "df_val.shape"
      ],
      "execution_count": null,
      "outputs": [
        {
          "output_type": "execute_result",
          "data": {
            "text/plain": [
              "(1591, 6)"
            ]
          },
          "metadata": {
            "tags": []
          },
          "execution_count": 13
        }
      ]
    },
    {
      "cell_type": "code",
      "metadata": {
        "id": "EoWy9P1BcoO1",
        "colab_type": "code",
        "colab": {
          "base_uri": "https://localhost:8080/",
          "height": 311
        },
        "outputId": "99836892-fa8f-48ee-a4c4-c2df5b566afc"
      },
      "source": [
        "df_val['class'].value_counts().plot(kind='bar', rot=45)"
      ],
      "execution_count": null,
      "outputs": [
        {
          "output_type": "execute_result",
          "data": {
            "text/plain": [
              "<matplotlib.axes._subplots.AxesSubplot at 0x7f9297c00b00>"
            ]
          },
          "metadata": {
            "tags": []
          },
          "execution_count": 14
        },
        {
          "output_type": "display_data",
          "data": {
            "image/png": "[encoded data removed]",
            "text/plain": [
              "<Figure size 432x288 with 1 Axes>"
            ]
          },
          "metadata": {
            "tags": [],
            "needs_background": "light"
          }
        }
      ]
    }
  ]
}